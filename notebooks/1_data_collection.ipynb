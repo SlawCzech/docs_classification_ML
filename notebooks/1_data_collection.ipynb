{
 "cells": [
  {
   "cell_type": "markdown",
   "source": [
    "# Collecting data for further processing\n",
    "\n",
    "Based on the data collected in the shared training set (sets of images divided into 21 categories), the stage of preparing the input data involves the use of tesseract and OpenCV tools to recognize the text on each file.\n",
    "\n",
    "Necessary steps to take before launching data collection tools:\n",
    "\n",
    "1. Unpacking the compressed training dataset\n",
    "2. Placing folders with training data in the data folder -> Each folder corresponds to one category (label)\n"
   ],
   "metadata": {
    "collapsed": false
   }
  },
  {
   "cell_type": "code",
   "execution_count": 3,
   "outputs": [],
   "source": [
    "import os\n",
    "\n",
    "from helpers.ocr_engine import text_extractor_training, text_extractor_test"
   ],
   "metadata": {
    "collapsed": false,
    "ExecuteTime": {
     "start_time": "2023-05-27T19:52:09.256032Z",
     "end_time": "2023-05-27T19:52:10.402865Z"
    }
   }
  },
  {
   "cell_type": "markdown",
   "source": [
    "## A list of labeled data locations\n",
    "Creation of a list of labels (in the form of str), which are also the names of folders in the shared set of training data."
   ],
   "metadata": {
    "collapsed": false
   }
  },
  {
   "cell_type": "code",
   "execution_count": 4,
   "outputs": [],
   "source": [
    "dir_names = ['advertisement', 'budget', 'email', 'file_folder', 'form', 'handwritten', 'invoice', 'letter', 'memo', 'news_article', 'pit37_v1', 'pozwolenie_uzytkowanie_obiektu_budowlanego', 'presentation', 'questionnaire', 'resume', 'scientific_publication', 'scientific_report', 'specification', 'umowa_na_odleglosc_odstapienie', 'umowa_o_dzielo', 'umowa_sprzedazy_samochodu']"
   ],
   "metadata": {
    "collapsed": false,
    "ExecuteTime": {
     "start_time": "2023-05-27T20:10:26.626686Z",
     "end_time": "2023-05-27T20:10:26.667731Z"
    }
   }
  },
  {
   "cell_type": "markdown",
   "source": [
    "## Text recognition in training files\n",
    "Once the shared training data is properly located, it is possible to run the ocr_engine tool to extract text from each file in the training dataset."
   ],
   "metadata": {
    "collapsed": false
   }
  },
  {
   "cell_type": "code",
   "execution_count": null,
   "outputs": [],
   "source": [
    "for dir_name in dir_names:\n",
    "    text_extractor_training(dir_name)"
   ],
   "metadata": {
    "collapsed": false
   }
  },
  {
   "cell_type": "markdown",
   "source": [
    "## Text recognition in test files\n",
    "Performing an OCR analysis on the set of files contained in the test set"
   ],
   "metadata": {
    "collapsed": false
   }
  },
  {
   "cell_type": "code",
   "execution_count": null,
   "outputs": [],
   "source": [
    "test_set_folder = 'test_set'\n",
    "text_extractor_test(test_set_folder)"
   ],
   "metadata": {
    "collapsed": false
   }
  }
 ],
 "metadata": {
  "kernelspec": {
   "display_name": "Python 3",
   "language": "python",
   "name": "python3"
  },
  "language_info": {
   "codemirror_mode": {
    "name": "ipython",
    "version": 2
   },
   "file_extension": ".py",
   "mimetype": "text/x-python",
   "name": "python",
   "nbconvert_exporter": "python",
   "pygments_lexer": "ipython2",
   "version": "2.7.6"
  }
 },
 "nbformat": 4,
 "nbformat_minor": 0
}
