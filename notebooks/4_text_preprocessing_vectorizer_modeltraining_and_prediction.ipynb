{
 "cells": [
  {
   "cell_type": "code",
   "execution_count": 32,
   "metadata": {
    "collapsed": true,
    "ExecuteTime": {
     "start_time": "2023-05-19T13:39:44.162119Z",
     "end_time": "2023-05-19T13:39:44.205364Z"
    }
   },
   "outputs": [],
   "source": [
    "import pandas as pd\n",
    "import re\n",
    "import string\n",
    "import nltk\n",
    "import os\n",
    "import pickle\n",
    "import pytesseract\n",
    "\n",
    "from PIL import Image\n",
    "from nltk.corpus import stopwords\n",
    "from sklearn.feature_extraction.text import TfidfVectorizer\n",
    "from sklearn.linear_model import LogisticRegression\n",
    "from sklearn.metrics import classification_report\n",
    "from sklearn.model_selection import train_test_split, RandomizedSearchCV"
   ]
  },
  {
   "cell_type": "markdown",
   "source": [
    "## Upload preprocessed dataset"
   ],
   "metadata": {
    "collapsed": false
   }
  },
  {
   "cell_type": "code",
   "execution_count": 2,
   "outputs": [],
   "source": [
    "input_df = pd.read_csv(os.path.join(\"..\", \"data\", \"train_data_complete_fixed.csv\"))"
   ],
   "metadata": {
    "collapsed": false,
    "ExecuteTime": {
     "start_time": "2023-05-19T12:50:06.370858Z",
     "end_time": "2023-05-19T12:50:06.491796Z"
    }
   }
  },
  {
   "cell_type": "markdown",
   "source": [
    "## Cleaning data\n",
    "All to lowercase, remove square brackets, links, punctuation and words with digits within."
   ],
   "metadata": {
    "collapsed": false
   }
  },
  {
   "cell_type": "code",
   "execution_count": 3,
   "outputs": [],
   "source": [
    "def clean_text(text):\n",
    "    text = text.lower()\n",
    "    text = re.sub('\\[.*?\\]', '', text)\n",
    "    text = re.sub('https?://\\S+|www\\.\\S+', '', text)\n",
    "    text = re.sub('<.*?>+', '', text)\n",
    "    text = re.sub('[%s]' % re.escape(string.punctuation), '', text)\n",
    "    text = re.sub('\\n', '', text)\n",
    "    text = re.sub('\\w*\\d\\w*', '', text)\n",
    "    return text\n",
    "\n",
    "input_df['text'] = input_df['text'].apply(lambda x: clean_text(x))"
   ],
   "metadata": {
    "collapsed": false,
    "ExecuteTime": {
     "start_time": "2023-05-19T12:50:06.503598Z",
     "end_time": "2023-05-19T12:50:07.616206Z"
    }
   }
  },
  {
   "cell_type": "markdown",
   "source": [
    "## Tokenization"
   ],
   "metadata": {
    "collapsed": false
   }
  },
  {
   "cell_type": "code",
   "execution_count": 4,
   "outputs": [],
   "source": [
    "tokenizer = nltk.tokenize.RegexpTokenizer(r'\\w+')\n",
    "input_df['text'] = input_df['text'].apply(lambda x: tokenizer.tokenize(x))"
   ],
   "metadata": {
    "collapsed": false,
    "ExecuteTime": {
     "start_time": "2023-05-19T12:50:07.622975Z",
     "end_time": "2023-05-19T12:50:07.853943Z"
    }
   }
  },
  {
   "cell_type": "markdown",
   "source": [
    "## Removal of stopwords\n",
    "Applicable only to English files (no dedicated package for Polish)"
   ],
   "metadata": {
    "collapsed": false
   }
  },
  {
   "cell_type": "code",
   "execution_count": 5,
   "outputs": [],
   "source": [
    "def remove_stopwords(text):\n",
    "    words = [w for w in text if w not in stopwords.words('english')]\n",
    "    return words\n",
    "\n",
    "input_df['text'] = input_df['text'].apply(lambda x: remove_stopwords(x))"
   ],
   "metadata": {
    "collapsed": false,
    "ExecuteTime": {
     "start_time": "2023-05-19T12:50:07.858627Z",
     "end_time": "2023-05-19T12:50:54.044634Z"
    }
   }
  },
  {
   "cell_type": "markdown",
   "source": [
    "## Combining lists to strings for vectorization"
   ],
   "metadata": {
    "collapsed": false
   }
  },
  {
   "cell_type": "code",
   "execution_count": 6,
   "outputs": [],
   "source": [
    "def combine_text(list_of_text):\n",
    "    combined_text = ' '.join(list_of_text)\n",
    "    return combined_text\n",
    "\n",
    "input_df['text'] = input_df['text'].apply(lambda x: combine_text(x))"
   ],
   "metadata": {
    "collapsed": false,
    "ExecuteTime": {
     "start_time": "2023-05-19T12:50:54.044498Z",
     "end_time": "2023-05-19T12:50:54.044826Z"
    }
   }
  },
  {
   "cell_type": "markdown",
   "source": [
    "## Training of TF-IDF Vectorizer"
   ],
   "metadata": {
    "collapsed": false
   }
  },
  {
   "cell_type": "code",
   "execution_count": 7,
   "outputs": [],
   "source": [
    "tfidf = TfidfVectorizer(min_df=2, max_df=0.5, ngram_range=(1, 2))\n",
    "\n",
    "tfidf_fitted = tfidf.fit(input_df['text'])\n",
    "\n",
    "train_tfidf = tfidf_fitted.transform(input_df['text'])"
   ],
   "metadata": {
    "collapsed": false,
    "ExecuteTime": {
     "start_time": "2023-05-19T12:50:54.058331Z",
     "end_time": "2023-05-19T12:50:56.823092Z"
    }
   }
  },
  {
   "cell_type": "markdown",
   "source": [
    "## Saving trained vectorizer to pickle file"
   ],
   "metadata": {
    "collapsed": false
   }
  },
  {
   "cell_type": "code",
   "execution_count": 8,
   "outputs": [],
   "source": [
    "path_model = os.path.join(\"..\", \"models\", \"vectorizer.pkl\")\n",
    "with open(path_model, 'wb') as file:\n",
    "    pickle.dump(tfidf_fitted, file)\n"
   ],
   "metadata": {
    "collapsed": false,
    "ExecuteTime": {
     "start_time": "2023-05-19T12:50:56.825124Z",
     "end_time": "2023-05-19T12:50:57.115166Z"
    }
   }
  },
  {
   "cell_type": "markdown",
   "source": [
    "## Saving vectorized training data to pickle file"
   ],
   "metadata": {
    "collapsed": false
   }
  },
  {
   "cell_type": "code",
   "execution_count": 17,
   "outputs": [],
   "source": [
    "path_data = os.path.join(\"..\", \"data\", \"vectorized_train_data.pkl\")\n",
    "with open(path_data, 'wb') as file:\n",
    "    pickle.dump(tfidf_fitted, file)\n"
   ],
   "metadata": {
    "collapsed": false,
    "ExecuteTime": {
     "start_time": "2023-05-19T12:55:52.479153Z",
     "end_time": "2023-05-19T12:55:52.850587Z"
    }
   }
  },
  {
   "cell_type": "markdown",
   "source": [
    "## Test-train split for training data"
   ],
   "metadata": {
    "collapsed": false
   }
  },
  {
   "cell_type": "code",
   "execution_count": 20,
   "outputs": [],
   "source": [
    "X_train, X_test, y_train, y_test = train_test_split(train_tfidf, input_df['target'], test_size=0.2, random_state=42)"
   ],
   "metadata": {
    "collapsed": false,
    "ExecuteTime": {
     "start_time": "2023-05-19T13:15:01.222471Z",
     "end_time": "2023-05-19T13:15:01.231992Z"
    }
   }
  },
  {
   "cell_type": "markdown",
   "source": [
    "## Model selection - Logistic Regression\n",
    "Hyperparameters set by RandomizedSearchCV as shown below."
   ],
   "metadata": {
    "collapsed": false
   }
  },
  {
   "cell_type": "code",
   "execution_count": null,
   "outputs": [],
   "source": [
    "param_grid = {\n",
    "    'C': [0.1, 1.0, 10.0],  # Regularization parameter\n",
    "    'penalty': ['l1', 'l2'],  # Regularization type\n",
    "    'solver': ['liblinear', 'saga'],  # Optimization algorithm\n",
    "    'max_iter': [100, 200, 300]  # Maximum number of iterations\n",
    "}\n",
    "\n",
    "model = LogisticRegression()\n",
    "random_search = RandomizedSearchCV(model, param_distributions=param_grid, n_iter=10, cv=5)\n",
    "random_search.fit(X_train, y_train)\n",
    "\n",
    "best_model = random_search.best_estimator_\n",
    "best_params = random_search.best_params_\n",
    "\n",
    "print(\"Best model: \", best_model)\n",
    "print(\"Best params: \", best_params)"
   ],
   "metadata": {
    "collapsed": false
   }
  },
  {
   "cell_type": "code",
   "execution_count": 23,
   "outputs": [
    {
     "data": {
      "text/plain": "LogisticRegression(C=10.0, max_iter=300, solver='liblinear')",
      "text/html": "<style>#sk-container-id-2 {color: black;background-color: white;}#sk-container-id-2 pre{padding: 0;}#sk-container-id-2 div.sk-toggleable {background-color: white;}#sk-container-id-2 label.sk-toggleable__label {cursor: pointer;display: block;width: 100%;margin-bottom: 0;padding: 0.3em;box-sizing: border-box;text-align: center;}#sk-container-id-2 label.sk-toggleable__label-arrow:before {content: \"▸\";float: left;margin-right: 0.25em;color: #696969;}#sk-container-id-2 label.sk-toggleable__label-arrow:hover:before {color: black;}#sk-container-id-2 div.sk-estimator:hover label.sk-toggleable__label-arrow:before {color: black;}#sk-container-id-2 div.sk-toggleable__content {max-height: 0;max-width: 0;overflow: hidden;text-align: left;background-color: #f0f8ff;}#sk-container-id-2 div.sk-toggleable__content pre {margin: 0.2em;color: black;border-radius: 0.25em;background-color: #f0f8ff;}#sk-container-id-2 input.sk-toggleable__control:checked~div.sk-toggleable__content {max-height: 200px;max-width: 100%;overflow: auto;}#sk-container-id-2 input.sk-toggleable__control:checked~label.sk-toggleable__label-arrow:before {content: \"▾\";}#sk-container-id-2 div.sk-estimator input.sk-toggleable__control:checked~label.sk-toggleable__label {background-color: #d4ebff;}#sk-container-id-2 div.sk-label input.sk-toggleable__control:checked~label.sk-toggleable__label {background-color: #d4ebff;}#sk-container-id-2 input.sk-hidden--visually {border: 0;clip: rect(1px 1px 1px 1px);clip: rect(1px, 1px, 1px, 1px);height: 1px;margin: -1px;overflow: hidden;padding: 0;position: absolute;width: 1px;}#sk-container-id-2 div.sk-estimator {font-family: monospace;background-color: #f0f8ff;border: 1px dotted black;border-radius: 0.25em;box-sizing: border-box;margin-bottom: 0.5em;}#sk-container-id-2 div.sk-estimator:hover {background-color: #d4ebff;}#sk-container-id-2 div.sk-parallel-item::after {content: \"\";width: 100%;border-bottom: 1px solid gray;flex-grow: 1;}#sk-container-id-2 div.sk-label:hover label.sk-toggleable__label {background-color: #d4ebff;}#sk-container-id-2 div.sk-serial::before {content: \"\";position: absolute;border-left: 1px solid gray;box-sizing: border-box;top: 0;bottom: 0;left: 50%;z-index: 0;}#sk-container-id-2 div.sk-serial {display: flex;flex-direction: column;align-items: center;background-color: white;padding-right: 0.2em;padding-left: 0.2em;position: relative;}#sk-container-id-2 div.sk-item {position: relative;z-index: 1;}#sk-container-id-2 div.sk-parallel {display: flex;align-items: stretch;justify-content: center;background-color: white;position: relative;}#sk-container-id-2 div.sk-item::before, #sk-container-id-2 div.sk-parallel-item::before {content: \"\";position: absolute;border-left: 1px solid gray;box-sizing: border-box;top: 0;bottom: 0;left: 50%;z-index: -1;}#sk-container-id-2 div.sk-parallel-item {display: flex;flex-direction: column;z-index: 1;position: relative;background-color: white;}#sk-container-id-2 div.sk-parallel-item:first-child::after {align-self: flex-end;width: 50%;}#sk-container-id-2 div.sk-parallel-item:last-child::after {align-self: flex-start;width: 50%;}#sk-container-id-2 div.sk-parallel-item:only-child::after {width: 0;}#sk-container-id-2 div.sk-dashed-wrapped {border: 1px dashed gray;margin: 0 0.4em 0.5em 0.4em;box-sizing: border-box;padding-bottom: 0.4em;background-color: white;}#sk-container-id-2 div.sk-label label {font-family: monospace;font-weight: bold;display: inline-block;line-height: 1.2em;}#sk-container-id-2 div.sk-label-container {text-align: center;}#sk-container-id-2 div.sk-container {/* jupyter's `normalize.less` sets `[hidden] { display: none; }` but bootstrap.min.css set `[hidden] { display: none !important; }` so we also need the `!important` here to be able to override the default hidden behavior on the sphinx rendered scikit-learn.org. See: https://github.com/scikit-learn/scikit-learn/issues/21755 */display: inline-block !important;position: relative;}#sk-container-id-2 div.sk-text-repr-fallback {display: none;}</style><div id=\"sk-container-id-2\" class=\"sk-top-container\"><div class=\"sk-text-repr-fallback\"><pre>LogisticRegression(C=10.0, max_iter=300, solver=&#x27;liblinear&#x27;)</pre><b>In a Jupyter environment, please rerun this cell to show the HTML representation or trust the notebook. <br />On GitHub, the HTML representation is unable to render, please try loading this page with nbviewer.org.</b></div><div class=\"sk-container\" hidden><div class=\"sk-item\"><div class=\"sk-estimator sk-toggleable\"><input class=\"sk-toggleable__control sk-hidden--visually\" id=\"sk-estimator-id-2\" type=\"checkbox\" checked><label for=\"sk-estimator-id-2\" class=\"sk-toggleable__label sk-toggleable__label-arrow\">LogisticRegression</label><div class=\"sk-toggleable__content\"><pre>LogisticRegression(C=10.0, max_iter=300, solver=&#x27;liblinear&#x27;)</pre></div></div></div></div></div>"
     },
     "execution_count": 23,
     "metadata": {},
     "output_type": "execute_result"
    }
   ],
   "source": [
    "model = LogisticRegression(C=10.0, max_iter=300, solver='liblinear', penalty='l2')\n",
    "model.fit(X_train, y_train)"
   ],
   "metadata": {
    "collapsed": false,
    "ExecuteTime": {
     "start_time": "2023-05-19T13:16:10.159241Z",
     "end_time": "2023-05-19T13:16:15.642777Z"
    }
   }
  },
  {
   "cell_type": "markdown",
   "source": [
    "## Prediction on training data"
   ],
   "metadata": {
    "collapsed": false
   }
  },
  {
   "cell_type": "code",
   "execution_count": 27,
   "outputs": [
    {
     "name": "stdout",
     "output_type": "stream",
     "text": [
      "                                            precision    recall  f1-score   support\n",
      "\n",
      "                             advertisement       0.62      0.57      0.60       107\n",
      "                                    budget       0.63      0.52      0.57       118\n",
      "                                     email       0.90      0.76      0.82       116\n",
      "                               file_folder       0.32      0.80      0.46        97\n",
      "                               form_folder       0.67      0.53      0.60       105\n",
      "                               handwritten       0.44      0.60      0.51       111\n",
      "                                   invoice       0.74      0.69      0.71        99\n",
      "                                    letter       0.65      0.59      0.62       120\n",
      "                                      memo       0.64      0.59      0.62       110\n",
      "                              news_article       0.57      0.53      0.55        89\n",
      "                                  pit37_v1       0.99      0.96      0.97        73\n",
      "pozwolenie_uzytkowanie_obiektu_budowlanego       1.00      0.83      0.91        47\n",
      "                              presentation       0.57      0.44      0.50       122\n",
      "                             questionnaire       0.74      0.73      0.74       100\n",
      "                                    resume       0.93      0.96      0.94        95\n",
      "                    scientific_publication       0.81      0.84      0.83       129\n",
      "                         scientific_report       0.64      0.54      0.58       127\n",
      "                             specification       0.94      0.76      0.84       110\n",
      "            umowa_na_odleglosc_odstapienie       0.98      0.86      0.92        71\n",
      "                            umowa_o_dzielo       1.00      0.94      0.97        63\n",
      "                 umowa_sprzedazy_samochodu       1.00      0.95      0.98        65\n",
      "\n",
      "                                  accuracy                           0.69      2074\n",
      "                                 macro avg       0.75      0.71      0.72      2074\n",
      "                              weighted avg       0.73      0.69      0.70      2074\n",
      "\n"
     ]
    }
   ],
   "source": [
    "y_pred = model.predict(X_test)\n",
    "print(classification_report(y_test, y_pred))"
   ],
   "metadata": {
    "collapsed": false,
    "ExecuteTime": {
     "start_time": "2023-05-19T13:18:44.379232Z",
     "end_time": "2023-05-19T13:18:44.421632Z"
    }
   }
  },
  {
   "cell_type": "markdown",
   "source": [
    "## Saving trained model to pickle file"
   ],
   "metadata": {
    "collapsed": false
   }
  },
  {
   "cell_type": "code",
   "execution_count": 29,
   "outputs": [],
   "source": [
    "path_for_model = os.path.join(\"..\", \"models\", \"log_reg_model.pkl\")\n",
    "with open(path_for_model, 'wb') as file:\n",
    "    pickle.dump(model, file)"
   ],
   "metadata": {
    "collapsed": false,
    "ExecuteTime": {
     "start_time": "2023-05-19T13:20:33.682019Z",
     "end_time": "2023-05-19T13:20:33.687966Z"
    }
   }
  },
  {
   "cell_type": "markdown",
   "source": [
    "## Upload a scan file selected by user"
   ],
   "metadata": {
    "collapsed": false
   }
  },
  {
   "cell_type": "code",
   "execution_count": 31,
   "outputs": [],
   "source": [
    "file_path = input(\"Upload file to classify: \")\n",
    "\n",
    "try:\n",
    "    image = Image.open(file_path)\n",
    "except Exception as e:\n",
    "    print(\"Error while reading the file:\", str(e))"
   ],
   "metadata": {
    "collapsed": false,
    "ExecuteTime": {
     "start_time": "2023-05-19T13:39:21.579207Z",
     "end_time": "2023-05-19T13:39:23.264990Z"
    }
   }
  },
  {
   "cell_type": "markdown",
   "source": [
    "## Reading file by OCR Tesseract"
   ],
   "metadata": {
    "collapsed": false
   }
  },
  {
   "cell_type": "code",
   "execution_count": 33,
   "outputs": [],
   "source": [
    "ocr_result = pytesseract.image_to_string(image, lang='eng+pol')"
   ],
   "metadata": {
    "collapsed": false,
    "ExecuteTime": {
     "start_time": "2023-05-19T13:39:47.251823Z",
     "end_time": "2023-05-19T13:39:47.828220Z"
    }
   }
  },
  {
   "cell_type": "markdown",
   "source": [
    "## Vectorization and prediction"
   ],
   "metadata": {
    "collapsed": false
   }
  },
  {
   "cell_type": "code",
   "execution_count": 44,
   "outputs": [],
   "source": [
    "vect_text = tfidf_fitted.transform([ocr_result])\n",
    "prediction = model.predict(vect_text)"
   ],
   "metadata": {
    "collapsed": false,
    "ExecuteTime": {
     "start_time": "2023-05-19T13:43:41.287951Z",
     "end_time": "2023-05-19T13:43:41.332173Z"
    }
   }
  },
  {
   "cell_type": "markdown",
   "source": [
    "## Result and open predicted file for verification"
   ],
   "metadata": {
    "collapsed": false
   }
  },
  {
   "cell_type": "code",
   "execution_count": 45,
   "outputs": [
    {
     "name": "stdout",
     "output_type": "stream",
     "text": [
      "Predicted class for this document:  ['budget']\n"
     ]
    }
   ],
   "source": [
    "print(\"Predicted class for this document: \", prediction)\n",
    "image.show()"
   ],
   "metadata": {
    "collapsed": false,
    "ExecuteTime": {
     "start_time": "2023-05-19T13:43:42.969883Z",
     "end_time": "2023-05-19T13:43:43.001894Z"
    }
   }
  },
  {
   "cell_type": "markdown",
   "source": [
    "# Convolutional Neural Network: PyTorch"
   ],
   "metadata": {
    "collapsed": false
   }
  },
  {
   "cell_type": "markdown",
   "source": [
    "## Defining two-layered CNN"
   ],
   "metadata": {
    "collapsed": false
   }
  },
  {
   "cell_type": "code",
   "execution_count": null,
   "outputs": [],
   "source": [
    "import torch.nn as nn\n",
    "import torch.nn.functional as F\n",
    "\n",
    "\n",
    "class MyCNN(nn.Module):\n",
    "    num_classes = 21\n",
    "\n",
    "    def __init__(self):\n",
    "        super().__init__()\n",
    "        self.layer1 = nn.Sequential(\n",
    "            nn.Conv2d(1, 16, 5),\n",
    "            nn.BatchNorm2d(16),\n",
    "            nn.ReLU(),\n",
    "            nn.MaxPool2d(kernel_size=2))\n",
    "\n",
    "        self.layer2 = nn.Sequential(\n",
    "            nn.Conv2d(16, 32, 5),\n",
    "            nn.BatchNorm2d(32),\n",
    "            nn.ReLU(),\n",
    "            nn.MaxPool2d(kernel_size=2))\n",
    "\n",
    "        self.fc = nn.Linear(119072, self.num_classes)\n",
    "\n",
    "    def forward(self, x):\n",
    "        out = self.layer1(x)\n",
    "        out = self.layer2(out)\n",
    "        out = out.reshape(out.size(0), -1)\n",
    "        out = self.fc(out)\n",
    "\n",
    "        return out"
   ],
   "metadata": {
    "collapsed": false
   }
  }
 ],
 "metadata": {
  "kernelspec": {
   "display_name": "Python 3",
   "language": "python",
   "name": "python3"
  },
  "language_info": {
   "codemirror_mode": {
    "name": "ipython",
    "version": 2
   },
   "file_extension": ".py",
   "mimetype": "text/x-python",
   "name": "python",
   "nbconvert_exporter": "python",
   "pygments_lexer": "ipython2",
   "version": "2.7.6"
  }
 },
 "nbformat": 4,
 "nbformat_minor": 0
}
