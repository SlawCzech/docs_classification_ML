{
 "cells": [
  {
   "cell_type": "markdown",
   "source": [
    "## Data processing for further analysis\n",
    "The stage of data transformation and purification for further analysis."
   ],
   "metadata": {
    "collapsed": false
   }
  },
  {
   "cell_type": "code",
   "execution_count": 1,
   "outputs": [],
   "source": [
    "import os\n",
    "\n",
    "import pandas as pd"
   ],
   "metadata": {
    "collapsed": false,
    "ExecuteTime": {
     "start_time": "2023-05-27T20:23:41.162408Z",
     "end_time": "2023-05-27T20:23:41.383174Z"
    }
   }
  },
  {
   "cell_type": "markdown",
   "source": [
    "## Create a merged training data file\n",
    "Combination of OCR-analyzed files for individual labels into one training set"
   ],
   "metadata": {
    "collapsed": false
   }
  },
  {
   "cell_type": "code",
   "execution_count": null,
   "outputs": [],
   "source": [
    "df_adv = pd.read_csv(os.path.join('..', 'data', 'advertisement_labeled.csv'))\n",
    "df_budget = pd.read_csv(os.path.join('..', 'data', 'budget_labeled.csv'))\n",
    "df_email = pd.read_csv(os.path.join('..', 'data', 'email_labeled.csv'))\n",
    "df_file = pd.read_csv(os.path.join('..', 'data', 'file_folder_labeled.csv'))\n",
    "df_form = pd.read_csv(os.path.join('..', 'data', 'form_labeled.csv'))\n",
    "df_hand = pd.read_csv(os.path.join('..', 'data', 'handwritten_labeled.csv'))\n",
    "df_inv = pd.read_csv(os.path.join('..', 'data', 'invoice_labeled.csv'))\n",
    "df_let = pd.read_csv(os.path.join('..', 'data', 'letter_labeled.csv'))\n",
    "df_memo = pd.read_csv(os.path.join('..', 'data', 'memo_labeled.csv'))\n",
    "df_news = pd.read_csv(os.path.join('..', 'data', 'news_article_labeled.csv'))\n",
    "df_pit = pd.read_csv(os.path.join('..', 'data', 'pit37_v1_labeled.csv'))\n",
    "df_poz = pd.read_csv(os.path.join('..', 'data', 'pozwolenie_uzytkowanie_obiektu_budowlanego_labeled.csv'))\n",
    "df_pres = pd.read_csv(os.path.join('..', 'data', 'presentation_labeled.csv'))\n",
    "df_quest= pd.read_csv(os.path.join('..', 'data', 'questionnaire_labeled.csv'))\n",
    "df_resume = pd.read_csv(os.path.join('..', 'data', 'resume_labeled.csv'))\n",
    "df_scientific_p = pd.read_csv(os.path.join('..', 'data', 'scientific_publication_labeled.csv'))\n",
    "df_scientific_r = pd.read_csv(os.path.join('..', 'data', 'scientific_report_labeled.csv'))\n",
    "df_spec = pd.read_csv(os.path.join('..', 'data', 'specification_labeled.csv'))\n",
    "df_um_odl = pd.read_csv(os.path.join('..', 'data', 'umowa_na_odleglosc_odstapienie_labeled.csv'))\n",
    "df_um_dzi = pd.read_csv(os.path.join('..', 'data', 'umowa_o_dzielo_labeled.csv'))\n",
    "df_um_spr = pd.read_csv(os.path.join('..', 'data', 'umowa_sprzedazy_samochodu_labeled.csv'))"
   ],
   "metadata": {
    "collapsed": false
   }
  },
  {
   "cell_type": "code",
   "execution_count": null,
   "outputs": [],
   "source": [
    "df_merged = pd.concat([df_adv, df_budget, df_email, df_file, df_form, df_inv, df_let, df_memo, df_news, df_pit, df_poz, df_pres, df_quest, df_resume, df_scientific_p, df_scientific_r, df_spec, df_um_odl, df_um_dzi, df_um_odl], ignore_index=True)"
   ],
   "metadata": {
    "collapsed": false
   }
  },
  {
   "cell_type": "markdown",
   "source": [
    "## Clearing of training data\n",
    "Removal of items in the training set for which the OCR engine was unable to recognize the text"
   ],
   "metadata": {
    "collapsed": false
   }
  },
  {
   "cell_type": "code",
   "execution_count": null,
   "outputs": [],
   "source": [
    "df_merged.dropna(inplace=True)"
   ],
   "metadata": {
    "collapsed": false
   }
  },
  {
   "cell_type": "markdown",
   "source": [
    "Generating a merged file for training data"
   ],
   "metadata": {
    "collapsed": false
   }
  },
  {
   "cell_type": "code",
   "execution_count": null,
   "outputs": [],
   "source": [
    "df_merged.to_csv(os.path.join('..', 'data', 'train_set_labeled_cleaned.csv'))"
   ],
   "metadata": {
    "collapsed": false
   }
  },
  {
   "cell_type": "markdown",
   "source": [
    "## Clearing test data\n",
    "Removal of items in the test set for which the OCR engine was unable to recognize the text"
   ],
   "metadata": {
    "collapsed": false
   }
  },
  {
   "cell_type": "code",
   "execution_count": null,
   "outputs": [],
   "source": [
    "df_test = pd.read_csv(os.path.join('..', 'data', 'test_set.csv'))\n",
    "\n",
    "df_test.dropna(inplace=True)"
   ],
   "metadata": {
    "collapsed": false
   }
  },
  {
   "cell_type": "markdown",
   "source": [
    "## Saving the cleaned test data file"
   ],
   "metadata": {
    "collapsed": false
   }
  },
  {
   "cell_type": "code",
   "execution_count": null,
   "outputs": [],
   "source": [
    "df_test.to_csv(os.path.join('..', 'data', 'test_set_cleaned.csv'))"
   ],
   "metadata": {
    "collapsed": false
   }
  },
  {
   "cell_type": "code",
   "execution_count": null,
   "outputs": [],
   "source": [],
   "metadata": {
    "collapsed": false
   }
  }
 ],
 "metadata": {
  "kernelspec": {
   "display_name": "Python 3",
   "language": "python",
   "name": "python3"
  },
  "language_info": {
   "codemirror_mode": {
    "name": "ipython",
    "version": 2
   },
   "file_extension": ".py",
   "mimetype": "text/x-python",
   "name": "python",
   "nbconvert_exporter": "python",
   "pygments_lexer": "ipython2",
   "version": "2.7.6"
  }
 },
 "nbformat": 4,
 "nbformat_minor": 0
}
