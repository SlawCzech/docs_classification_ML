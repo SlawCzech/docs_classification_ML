{
 "cells": [
  {
   "cell_type": "markdown",
   "source": [
    "## Detection and elimination of typos in OCR data\n",
    "The data obtained using OCR tools are characterized by frequent (depending on the quality of the input data) minor reading errors of individual characters in the analyzed text. The langdetect package recognizes the language of the text resulting from OCR analysis. In turn, thanks to the spellchecker module, it is possible to supplement and eliminate some of these errors, which allows to improve the quality of data for further analysis."
   ],
   "metadata": {
    "collapsed": false
   }
  },
  {
   "cell_type": "code",
   "execution_count": null,
   "outputs": [],
   "source": [
    "import os\n",
    "\n",
    "from langdetect import detect\n",
    "import pandas as pd\n",
    "from spellchecker import Spellchecker"
   ],
   "metadata": {
    "collapsed": false
   }
  },
  {
   "cell_type": "markdown",
   "source": [
    "Readout of analyzed data sets: training and test"
   ],
   "metadata": {
    "collapsed": false
   }
  },
  {
   "cell_type": "code",
   "execution_count": null,
   "outputs": [],
   "source": [
    "df_train = pd.read_csv(os.path.join('..', 'data', 'train_data_complete_fixed.csv'))\n",
    "df_test = pd.read_csv(os.path.join('..', 'data', 'test_set_fixed.csv'))"
   ],
   "metadata": {
    "collapsed": false
   }
  },
  {
   "cell_type": "code",
   "execution_count": null,
   "outputs": [],
   "source": [
    "def detect_language(text):\n",
    "    try:\n",
    "        return detect(text)\n",
    "    except:\n",
    "       return 'unknown'"
   ],
   "metadata": {
    "collapsed": false
   }
  },
  {
   "cell_type": "markdown",
   "source": [
    "Language detection for the training dataset"
   ],
   "metadata": {
    "collapsed": false
   }
  },
  {
   "cell_type": "code",
   "execution_count": null,
   "outputs": [],
   "source": [
    "df_train['lang'] = df_train['text'].progress_apply(detect_language)"
   ],
   "metadata": {
    "collapsed": false
   }
  },
  {
   "cell_type": "markdown",
   "source": [
    "Language detection for the test dataset"
   ],
   "metadata": {
    "collapsed": false
   }
  },
  {
   "cell_type": "code",
   "execution_count": null,
   "outputs": [],
   "source": [
    "df_test['lang'] = df_test['text'].progress_apply(detect_language)"
   ],
   "metadata": {
    "collapsed": false
   }
  },
  {
   "cell_type": "markdown",
   "source": [
    "Extraction of items for the identified language: English"
   ],
   "metadata": {
    "collapsed": false
   }
  },
  {
   "cell_type": "code",
   "execution_count": null,
   "outputs": [],
   "source": [
    "df_train_en = df_train.loc[df_train['lang'] == 'en']\n",
    "df_test_en = df_test.loc[df_test['lang'] == 'en']"
   ],
   "metadata": {
    "collapsed": false
   }
  },
  {
   "cell_type": "markdown",
   "source": [
    "Tool for analyzing the quality of text in the selected language"
   ],
   "metadata": {
    "collapsed": false
   }
  },
  {
   "cell_type": "code",
   "execution_count": null,
   "outputs": [],
   "source": [
    "spell = Spellchecker(language='en')\n",
    "\n",
    "def correct_text(text_string):\n",
    "    text_list = text_string.split()\n",
    "    corrected_text_list = []\n",
    "    for word in text_list:\n",
    "        correction = spell.correction(word)\n",
    "        if correction is not None:\n",
    "            corrected_text_list.append(correction)\n",
    "        else:\n",
    "            corrected_text_list.append(word)\n",
    "    corrected_text_string = ' '.join(corrected_text_list)\n",
    "\n",
    "    return corrected_text_string"
   ],
   "metadata": {
    "collapsed": false
   }
  },
  {
   "cell_type": "markdown",
   "source": [
    "English text analysis for training dataset and test dataset with correction of minor grammatical errors with addition of a new column for corrected text."
   ],
   "metadata": {
    "collapsed": false
   }
  },
  {
   "cell_type": "code",
   "execution_count": null,
   "outputs": [],
   "source": [
    "df_train_en['text_fixed'] = df_train_en['text'].progress_apply(correct_text)\n",
    "df_test_en['text_fixed'] = df_test_en['text'].progress_apply(correct_text)"
   ],
   "metadata": {
    "collapsed": false
   }
  }
 ],
 "metadata": {
  "kernelspec": {
   "display_name": "Python 3",
   "language": "python",
   "name": "python3"
  },
  "language_info": {
   "codemirror_mode": {
    "name": "ipython",
    "version": 2
   },
   "file_extension": ".py",
   "mimetype": "text/x-python",
   "name": "python",
   "nbconvert_exporter": "python",
   "pygments_lexer": "ipython2",
   "version": "2.7.6"
  }
 },
 "nbformat": 4,
 "nbformat_minor": 0
}
